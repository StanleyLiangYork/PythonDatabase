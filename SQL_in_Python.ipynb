{
  "nbformat": 4,
  "nbformat_minor": 0,
  "metadata": {
    "colab": {
      "name": "SQL_in_Python.ipynb",
      "provenance": [],
      "authorship_tag": "ABX9TyPkJHj6C1eHbgqR7xmz/Sm1",
      "include_colab_link": true
    },
    "kernelspec": {
      "name": "python3",
      "display_name": "Python 3"
    }
  },
  "cells": [
    {
      "cell_type": "markdown",
      "metadata": {
        "id": "view-in-github",
        "colab_type": "text"
      },
      "source": [
        "<a href=\"https://colab.research.google.com/github/StanleyLiangYork/PythonDatabase/blob/master/SQL_in_Python.ipynb\" target=\"_parent\"><img src=\"https://colab.research.google.com/assets/colab-badge.svg\" alt=\"Open In Colab\"/></a>"
      ]
    },
    {
      "cell_type": "markdown",
      "metadata": {
        "id": "frJjeofhNLuc",
        "colab_type": "text"
      },
      "source": [
        "Install PandaSQL"
      ]
    },
    {
      "cell_type": "code",
      "metadata": {
        "id": "AjVWK2-3MtLC",
        "colab_type": "code",
        "colab": {
          "base_uri": "https://localhost:8080/",
          "height": 272
        },
        "outputId": "de959072-6ac0-4f5a-f7db-2079eb660dc8"
      },
      "source": [
        "!pip install pandasql"
      ],
      "execution_count": 1,
      "outputs": [
        {
          "output_type": "stream",
          "text": [
            "Collecting pandasql\n",
            "  Downloading https://files.pythonhosted.org/packages/6b/c4/ee4096ffa2eeeca0c749b26f0371bd26aa5c8b611c43de99a4f86d3de0a7/pandasql-0.7.3.tar.gz\n",
            "Requirement already satisfied: numpy in /usr/local/lib/python3.6/dist-packages (from pandasql) (1.17.5)\n",
            "Requirement already satisfied: pandas in /usr/local/lib/python3.6/dist-packages (from pandasql) (0.25.3)\n",
            "Requirement already satisfied: sqlalchemy in /usr/local/lib/python3.6/dist-packages (from pandasql) (1.3.13)\n",
            "Requirement already satisfied: python-dateutil>=2.6.1 in /usr/local/lib/python3.6/dist-packages (from pandas->pandasql) (2.6.1)\n",
            "Requirement already satisfied: pytz>=2017.2 in /usr/local/lib/python3.6/dist-packages (from pandas->pandasql) (2018.9)\n",
            "Requirement already satisfied: six>=1.5 in /usr/local/lib/python3.6/dist-packages (from python-dateutil>=2.6.1->pandas->pandasql) (1.12.0)\n",
            "Building wheels for collected packages: pandasql\n",
            "  Building wheel for pandasql (setup.py) ... \u001b[?25l\u001b[?25hdone\n",
            "  Created wheel for pandasql: filename=pandasql-0.7.3-cp36-none-any.whl size=26819 sha256=b1e9545993b72469a7bd12d8ea0440949fe6b581efd5eeb50f9e7bfbc257d990\n",
            "  Stored in directory: /root/.cache/pip/wheels/53/6c/18/b87a2e5fa8a82e9c026311de56210b8d1c01846e18a9607fc9\n",
            "Successfully built pandasql\n",
            "Installing collected packages: pandasql\n",
            "Successfully installed pandasql-0.7.3\n"
          ],
          "name": "stdout"
        }
      ]
    },
    {
      "cell_type": "code",
      "metadata": {
        "id": "_MH0qwMzM6BQ",
        "colab_type": "code",
        "colab": {}
      },
      "source": [
        "import pandas as pd\n",
        "from pandasql import sqldf\n",
        "from random import choice, random, randint"
      ],
      "execution_count": 0,
      "outputs": []
    },
    {
      "cell_type": "code",
      "metadata": {
        "id": "NQvivU1ZNz5g",
        "colab_type": "code",
        "colab": {}
      },
      "source": [
        "major_choices = ['Math', 'English', 'History', 'Biology', 'Computer Science', 'Chemistry']\n",
        "year_choices = [1, 2, 3, 4, 5]\n",
        "major_gpa_avgs = {major:random()+2.5 for major in major_choices}"
      ],
      "execution_count": 0,
      "outputs": []
    },
    {
      "cell_type": "code",
      "metadata": {
        "id": "eClG0cF9Vnk4",
        "colab_type": "code",
        "colab": {
          "base_uri": "https://localhost:8080/",
          "height": 119
        },
        "outputId": "94a30715-e738-446b-c0c6-28978b90c1fc"
      },
      "source": [
        "major_gpa_avgs"
      ],
      "execution_count": 147,
      "outputs": [
        {
          "output_type": "execute_result",
          "data": {
            "text/plain": [
              "{'Biology': 3.3623251265655387,\n",
              " 'Chemistry': 2.691205845989936,\n",
              " 'Computer Science': 3.3550542876990996,\n",
              " 'English': 3.4033497281493634,\n",
              " 'History': 2.6026469567126407,\n",
              " 'Math': 3.3945818531575176}"
            ]
          },
          "metadata": {
            "tags": []
          },
          "execution_count": 147
        }
      ]
    },
    {
      "cell_type": "code",
      "metadata": {
        "id": "jOnWYI05ONJb",
        "colab_type": "code",
        "colab": {}
      },
      "source": [
        "n=10000\n",
        "\n",
        "names = [' '.join([choice(['Adam', 'Bill', 'Catherine', 'Daniel', 'Ewin', 'Frank', 'George', 'Henry','Gates','Issac']) for _ in range(2) ]) for _ in range(n)]\n",
        "majors = [choice(major_choices) for _ in range(n)]\n",
        "gpas = [min(major_gpa_avgs[m]+random()/4.0, 4.0) for m in majors]\n",
        "years = [choice(year_choices) for _ in range(n)]\n",
        "\n",
        "student_data = pd.DataFrame(data=zip(names, gpas, majors, years), columns=['Name', 'GPA', 'Major', 'Year'])"
      ],
      "execution_count": 0,
      "outputs": []
    },
    {
      "cell_type": "code",
      "metadata": {
        "id": "vXoxkh-NQYOk",
        "colab_type": "code",
        "colab": {
          "base_uri": "https://localhost:8080/",
          "height": 419
        },
        "outputId": "8bab7052-0af3-4fb3-d492-557cfc955ba6"
      },
      "source": [
        "student_data"
      ],
      "execution_count": 152,
      "outputs": [
        {
          "output_type": "execute_result",
          "data": {
            "text/html": [
              "<div>\n",
              "<style scoped>\n",
              "    .dataframe tbody tr th:only-of-type {\n",
              "        vertical-align: middle;\n",
              "    }\n",
              "\n",
              "    .dataframe tbody tr th {\n",
              "        vertical-align: top;\n",
              "    }\n",
              "\n",
              "    .dataframe thead th {\n",
              "        text-align: right;\n",
              "    }\n",
              "</style>\n",
              "<table border=\"1\" class=\"dataframe\">\n",
              "  <thead>\n",
              "    <tr style=\"text-align: right;\">\n",
              "      <th></th>\n",
              "      <th>Name</th>\n",
              "      <th>GPA</th>\n",
              "      <th>Major</th>\n",
              "      <th>Year</th>\n",
              "    </tr>\n",
              "  </thead>\n",
              "  <tbody>\n",
              "    <tr>\n",
              "      <th>0</th>\n",
              "      <td>Bill Frank</td>\n",
              "      <td>3.449419</td>\n",
              "      <td>Math</td>\n",
              "      <td>5</td>\n",
              "    </tr>\n",
              "    <tr>\n",
              "      <th>1</th>\n",
              "      <td>George George</td>\n",
              "      <td>3.633388</td>\n",
              "      <td>Math</td>\n",
              "      <td>3</td>\n",
              "    </tr>\n",
              "    <tr>\n",
              "      <th>2</th>\n",
              "      <td>Henry Adam</td>\n",
              "      <td>3.513538</td>\n",
              "      <td>Computer Science</td>\n",
              "      <td>1</td>\n",
              "    </tr>\n",
              "    <tr>\n",
              "      <th>3</th>\n",
              "      <td>Adam George</td>\n",
              "      <td>2.746021</td>\n",
              "      <td>Chemistry</td>\n",
              "      <td>5</td>\n",
              "    </tr>\n",
              "    <tr>\n",
              "      <th>4</th>\n",
              "      <td>Frank Ewin</td>\n",
              "      <td>2.749638</td>\n",
              "      <td>Chemistry</td>\n",
              "      <td>2</td>\n",
              "    </tr>\n",
              "    <tr>\n",
              "      <th>...</th>\n",
              "      <td>...</td>\n",
              "      <td>...</td>\n",
              "      <td>...</td>\n",
              "      <td>...</td>\n",
              "    </tr>\n",
              "    <tr>\n",
              "      <th>9995</th>\n",
              "      <td>Bill Daniel</td>\n",
              "      <td>2.832558</td>\n",
              "      <td>Chemistry</td>\n",
              "      <td>1</td>\n",
              "    </tr>\n",
              "    <tr>\n",
              "      <th>9996</th>\n",
              "      <td>Frank Catherine</td>\n",
              "      <td>3.424644</td>\n",
              "      <td>Biology</td>\n",
              "      <td>5</td>\n",
              "    </tr>\n",
              "    <tr>\n",
              "      <th>9997</th>\n",
              "      <td>Issac Ewin</td>\n",
              "      <td>3.617497</td>\n",
              "      <td>English</td>\n",
              "      <td>1</td>\n",
              "    </tr>\n",
              "    <tr>\n",
              "      <th>9998</th>\n",
              "      <td>Adam Henry</td>\n",
              "      <td>2.784513</td>\n",
              "      <td>History</td>\n",
              "      <td>5</td>\n",
              "    </tr>\n",
              "    <tr>\n",
              "      <th>9999</th>\n",
              "      <td>George George</td>\n",
              "      <td>3.463862</td>\n",
              "      <td>Biology</td>\n",
              "      <td>5</td>\n",
              "    </tr>\n",
              "  </tbody>\n",
              "</table>\n",
              "<p>10000 rows × 4 columns</p>\n",
              "</div>"
            ],
            "text/plain": [
              "                 Name       GPA             Major  Year\n",
              "0          Bill Frank  3.449419              Math     5\n",
              "1       George George  3.633388              Math     3\n",
              "2          Henry Adam  3.513538  Computer Science     1\n",
              "3         Adam George  2.746021         Chemistry     5\n",
              "4          Frank Ewin  2.749638         Chemistry     2\n",
              "...               ...       ...               ...   ...\n",
              "9995      Bill Daniel  2.832558         Chemistry     1\n",
              "9996  Frank Catherine  3.424644           Biology     5\n",
              "9997       Issac Ewin  3.617497           English     1\n",
              "9998       Adam Henry  2.784513           History     5\n",
              "9999    George George  3.463862           Biology     5\n",
              "\n",
              "[10000 rows x 4 columns]"
            ]
          },
          "metadata": {
            "tags": []
          },
          "execution_count": 152
        }
      ]
    },
    {
      "cell_type": "markdown",
      "metadata": {
        "id": "_mrBBE0PSeio",
        "colab_type": "text"
      },
      "source": [
        "SELECT"
      ]
    },
    {
      "cell_type": "code",
      "metadata": {
        "id": "DyW17xd4Sc8q",
        "colab_type": "code",
        "colab": {
          "base_uri": "https://localhost:8080/",
          "height": 374
        },
        "outputId": "04917ecb-7385-4d8f-b8e9-82af336b3dc6"
      },
      "source": [
        "selected_data = sqldf(\"SELECT  * FROM student_data LIMIT 20;\", globals())\n",
        "print(selected_data)"
      ],
      "execution_count": 153,
      "outputs": [
        {
          "output_type": "stream",
          "text": [
            "                Name       GPA             Major  Year\n",
            "0         Bill Frank  3.449419              Math     5\n",
            "1      George George  3.633388              Math     3\n",
            "2         Henry Adam  3.513538  Computer Science     1\n",
            "3        Adam George  2.746021         Chemistry     5\n",
            "4         Frank Ewin  2.749638         Chemistry     2\n",
            "5        George Adam  3.638779           English     3\n",
            "6         Henry Ewin  3.588737              Math     4\n",
            "7       George Gates  3.418176              Math     4\n",
            "8   George Catherine  3.420593           English     2\n",
            "9         Ewin Gates  3.410863  Computer Science     3\n",
            "10        Ewin Frank  2.801940         Chemistry     3\n",
            "11       Issac Gates  3.608756           Biology     5\n",
            "12       Issac Issac  2.890433         Chemistry     2\n",
            "13      George Frank  3.438299           English     1\n",
            "14       Henry Issac  3.449546              Math     1\n",
            "15        Gates Adam  2.923152         Chemistry     1\n",
            "16   Gates Catherine  2.795424           History     2\n",
            "17      Henry Daniel  2.793533           History     5\n",
            "18       George Adam  3.565537           English     5\n",
            "19         Adam Ewin  3.610822           Biology     1\n"
          ],
          "name": "stdout"
        }
      ]
    },
    {
      "cell_type": "code",
      "metadata": {
        "id": "BSqTbjuoY29H",
        "colab_type": "code",
        "colab": {
          "base_uri": "https://localhost:8080/",
          "height": 374
        },
        "outputId": "259ea31b-4141-42be-bca6-bde360e76307"
      },
      "source": [
        "cols=['Name', 'GPA', 'Major', 'Year']\n",
        "col_name = ','.join(cols)\n",
        "statement = \"SELECT \" + col_name + \" FROM student_data LIMIT 20;\"\n",
        "selected_data = sqldf(statement, globals())\n",
        "print(selected_data)"
      ],
      "execution_count": 157,
      "outputs": [
        {
          "output_type": "stream",
          "text": [
            "                Name       GPA             Major  Year\n",
            "0         Bill Frank  3.449419              Math     5\n",
            "1      George George  3.633388              Math     3\n",
            "2         Henry Adam  3.513538  Computer Science     1\n",
            "3        Adam George  2.746021         Chemistry     5\n",
            "4         Frank Ewin  2.749638         Chemistry     2\n",
            "5        George Adam  3.638779           English     3\n",
            "6         Henry Ewin  3.588737              Math     4\n",
            "7       George Gates  3.418176              Math     4\n",
            "8   George Catherine  3.420593           English     2\n",
            "9         Ewin Gates  3.410863  Computer Science     3\n",
            "10        Ewin Frank  2.801940         Chemistry     3\n",
            "11       Issac Gates  3.608756           Biology     5\n",
            "12       Issac Issac  2.890433         Chemistry     2\n",
            "13      George Frank  3.438299           English     1\n",
            "14       Henry Issac  3.449546              Math     1\n",
            "15        Gates Adam  2.923152         Chemistry     1\n",
            "16   Gates Catherine  2.795424           History     2\n",
            "17      Henry Daniel  2.793533           History     5\n",
            "18       George Adam  3.565537           English     5\n",
            "19         Adam Ewin  3.610822           Biology     1\n"
          ],
          "name": "stdout"
        }
      ]
    },
    {
      "cell_type": "markdown",
      "metadata": {
        "id": "NKm5LGy5fjoe",
        "colab_type": "text"
      },
      "source": [
        "Count"
      ]
    },
    {
      "cell_type": "code",
      "metadata": {
        "id": "5WA7q06tfjGJ",
        "colab_type": "code",
        "colab": {
          "base_uri": "https://localhost:8080/",
          "height": 34
        },
        "outputId": "f569eaa2-1433-4102-e791-c4d5e29f8b88"
      },
      "source": [
        "statement = \"SELECT  DISTINCT Major FROM student_data;\"\n",
        "selected_data = sqldf(statement, globals())\n",
        "major_list = list(selected_data['Major'])\n",
        "print(major_list)"
      ],
      "execution_count": 162,
      "outputs": [
        {
          "output_type": "stream",
          "text": [
            "['Math', 'Computer Science', 'Chemistry', 'English', 'Biology', 'History']\n"
          ],
          "name": "stdout"
        }
      ]
    },
    {
      "cell_type": "code",
      "metadata": {
        "id": "8y9Eam1MgOo3",
        "colab_type": "code",
        "colab": {
          "base_uri": "https://localhost:8080/",
          "height": 34
        },
        "outputId": "012b7940-d6cc-4f33-c5f0-6f0a5893d3ae"
      },
      "source": [
        "statement = \"SELECT  COUNT(DISTINCT Major) as count FROM student_data;\"\n",
        "selected_data = sqldf(statement, globals())\n",
        "major_count = selected_data['count']\n",
        "print(major_count[0])"
      ],
      "execution_count": 169,
      "outputs": [
        {
          "output_type": "stream",
          "text": [
            "6\n"
          ],
          "name": "stdout"
        }
      ]
    },
    {
      "cell_type": "code",
      "metadata": {
        "id": "cBnaehIDhTce",
        "colab_type": "code",
        "colab": {
          "base_uri": "https://localhost:8080/",
          "height": 544
        },
        "outputId": "f048217d-fae0-41ae-f839-85f6207d188d"
      },
      "source": [
        "statement = \"SELECT  DISTINCT Major, Year FROM student_data;\"\n",
        "selected_data = sqldf(statement, globals())\n",
        "print(selected_data)"
      ],
      "execution_count": 172,
      "outputs": [
        {
          "output_type": "stream",
          "text": [
            "               Major  Year\n",
            "0               Math     5\n",
            "1               Math     3\n",
            "2   Computer Science     1\n",
            "3          Chemistry     5\n",
            "4          Chemistry     2\n",
            "5            English     3\n",
            "6               Math     4\n",
            "7            English     2\n",
            "8   Computer Science     3\n",
            "9          Chemistry     3\n",
            "10           Biology     5\n",
            "11           English     1\n",
            "12              Math     1\n",
            "13         Chemistry     1\n",
            "14           History     2\n",
            "15           History     5\n",
            "16           English     5\n",
            "17           Biology     1\n",
            "18           History     4\n",
            "19  Computer Science     4\n",
            "20           Biology     3\n",
            "21         Chemistry     4\n",
            "22           English     4\n",
            "23           Biology     2\n",
            "24           History     3\n",
            "25  Computer Science     2\n",
            "26  Computer Science     5\n",
            "27              Math     2\n",
            "28           History     1\n",
            "29           Biology     4\n"
          ],
          "name": "stdout"
        }
      ]
    },
    {
      "cell_type": "markdown",
      "metadata": {
        "id": "Mt1aCVVpku4L",
        "colab_type": "text"
      },
      "source": [
        "Where statement"
      ]
    },
    {
      "cell_type": "code",
      "metadata": {
        "id": "xBOnDFw_kn8g",
        "colab_type": "code",
        "colab": {
          "base_uri": "https://localhost:8080/",
          "height": 374
        },
        "outputId": "400251e2-a485-4c3c-a20a-a282a1308ed4"
      },
      "source": [
        "statement = \"SELECT  GPA FROM student_data WHERE Major = 'History' LIMIT 20;\"\n",
        "selected_data = sqldf(statement, globals())\n",
        "print(selected_data)"
      ],
      "execution_count": 176,
      "outputs": [
        {
          "output_type": "stream",
          "text": [
            "         GPA\n",
            "0   2.795424\n",
            "1   2.793533\n",
            "2   2.680848\n",
            "3   2.819450\n",
            "4   2.768629\n",
            "5   2.807550\n",
            "6   2.697347\n",
            "7   2.742180\n",
            "8   2.614470\n",
            "9   2.735318\n",
            "10  2.639549\n",
            "11  2.733966\n",
            "12  2.841503\n",
            "13  2.717357\n",
            "14  2.839175\n",
            "15  2.833655\n",
            "16  2.700817\n",
            "17  2.830181\n",
            "18  2.778149\n",
            "19  2.716602\n"
          ],
          "name": "stdout"
        }
      ]
    },
    {
      "cell_type": "code",
      "metadata": {
        "id": "excf8Q13kuFr",
        "colab_type": "code",
        "colab": {
          "base_uri": "https://localhost:8080/",
          "height": 374
        },
        "outputId": "682fefcd-d3e9-441b-e8ed-3b7776d74e9f"
      },
      "source": [
        "statement = \"SELECT * FROM student_data WHERE Major = 'History' OR Major='English' LIMIT 20;\"\n",
        "selected_data = sqldf(statement, globals())\n",
        "print(selected_data)"
      ],
      "execution_count": 178,
      "outputs": [
        {
          "output_type": "stream",
          "text": [
            "                   Name       GPA    Major  Year\n",
            "0           George Adam  3.638779  English     3\n",
            "1      George Catherine  3.420593  English     2\n",
            "2          George Frank  3.438299  English     1\n",
            "3       Gates Catherine  2.795424  History     2\n",
            "4          Henry Daniel  2.793533  History     5\n",
            "5           George Adam  3.565537  English     5\n",
            "6      George Catherine  2.680848  History     4\n",
            "7           Issac Issac  2.819450  History     5\n",
            "8           Frank Frank  3.455267  English     1\n",
            "9           Issac Frank  3.423783  English     4\n",
            "10           Issac Adam  2.768629  History     3\n",
            "11       Adam Catherine  2.807550  History     4\n",
            "12          Gates Gates  2.697347  History     2\n",
            "13          Frank Gates  2.742180  History     3\n",
            "14  Catherine Catherine  3.480353  English     5\n",
            "15     George Catherine  3.531265  English     1\n",
            "16        Daniel George  3.439850  English     2\n",
            "17         Frank Daniel  2.614470  History     2\n",
            "18         Frank Daniel  2.735318  History     1\n",
            "19     Catherine George  3.600754  English     3\n"
          ],
          "name": "stdout"
        }
      ]
    },
    {
      "cell_type": "code",
      "metadata": {
        "id": "PE6WiTDNpRP0",
        "colab_type": "code",
        "colab": {
          "base_uri": "https://localhost:8080/",
          "height": 374
        },
        "outputId": "a9d5088f-bf84-4348-e649-766508cfe187"
      },
      "source": [
        "statement = \"SELECT * FROM student_data WHERE Major = 'History' AND GPA>=2.5 LIMIT 20;\"\n",
        "selected_data = sqldf(statement, globals())\n",
        "print(selected_data)"
      ],
      "execution_count": 183,
      "outputs": [
        {
          "output_type": "stream",
          "text": [
            "                Name       GPA    Major  Year\n",
            "0    Gates Catherine  2.795424  History     2\n",
            "1       Henry Daniel  2.793533  History     5\n",
            "2   George Catherine  2.680848  History     4\n",
            "3        Issac Issac  2.819450  History     5\n",
            "4         Issac Adam  2.768629  History     3\n",
            "5     Adam Catherine  2.807550  History     4\n",
            "6        Gates Gates  2.697347  History     2\n",
            "7        Frank Gates  2.742180  History     3\n",
            "8       Frank Daniel  2.614470  History     2\n",
            "9       Frank Daniel  2.735318  History     1\n",
            "10      George Henry  2.639549  History     4\n",
            "11       Bill George  2.733966  History     2\n",
            "12         Bill Ewin  2.841503  History     5\n",
            "13       Gates Frank  2.717357  History     4\n",
            "14   Issac Catherine  2.839175  History     3\n",
            "15      George Henry  2.833655  History     1\n",
            "16       Gates Gates  2.700817  History     5\n",
            "17       Frank Henry  2.830181  History     4\n",
            "18       Daniel Bill  2.778149  History     4\n",
            "19       Daniel Ewin  2.716602  History     4\n"
          ],
          "name": "stdout"
        }
      ]
    },
    {
      "cell_type": "code",
      "metadata": {
        "id": "aP7gtozuph4Q",
        "colab_type": "code",
        "colab": {
          "base_uri": "https://localhost:8080/",
          "height": 51
        },
        "outputId": "b0055bdc-a584-4f38-c442-d459f2c18f85"
      },
      "source": [
        "statement = \"SELECT AVG(GPA) as avg_GPA FROM student_data WHERE Major != 'History' AND Year = 4;\"\n",
        "selected_data = sqldf(statement, globals())\n",
        "print(selected_data)"
      ],
      "execution_count": 184,
      "outputs": [
        {
          "output_type": "stream",
          "text": [
            "    avg_GPA\n",
            "0  3.360704\n"
          ],
          "name": "stdout"
        }
      ]
    },
    {
      "cell_type": "code",
      "metadata": {
        "id": "JoJX3O18qH0h",
        "colab_type": "code",
        "colab": {
          "base_uri": "https://localhost:8080/",
          "height": 374
        },
        "outputId": "6af1c40f-2fc2-44d6-a566-485c187df192"
      },
      "source": [
        "statement = \"SELECT * FROM student_data WHERE Major like '%ry' AND Year = 4 LIMIT 20;\"\n",
        "selected_data = sqldf(statement, globals())\n",
        "print(selected_data)"
      ],
      "execution_count": 186,
      "outputs": [
        {
          "output_type": "stream",
          "text": [
            "                Name       GPA      Major  Year\n",
            "0   George Catherine  2.680848    History     4\n",
            "1       George Gates  2.837778  Chemistry     4\n",
            "2        George Adam  2.860222  Chemistry     4\n",
            "3     Adam Catherine  2.807550    History     4\n",
            "4       George Henry  2.639549    History     4\n",
            "5        Gates Frank  2.717357    History     4\n",
            "6        Frank Henry  2.830181    History     4\n",
            "7        Daniel Bill  2.778149    History     4\n",
            "8     Catherine Bill  2.732800  Chemistry     4\n",
            "9        Daniel Ewin  2.716602    History     4\n",
            "10         Bill Ewin  2.786612  Chemistry     4\n",
            "11        Gates Bill  2.721103    History     4\n",
            "12       Henry Henry  2.817131    History     4\n",
            "13      Frank George  2.819612    History     4\n",
            "14         Ewin Ewin  2.826603    History     4\n",
            "15    Catherine Adam  2.713949  Chemistry     4\n",
            "16        Ewin Frank  2.774059  Chemistry     4\n",
            "17         Adam Bill  2.908274  Chemistry     4\n",
            "18       Frank Gates  2.610835    History     4\n",
            "19        Henry Ewin  2.818097  Chemistry     4\n"
          ],
          "name": "stdout"
        }
      ]
    },
    {
      "cell_type": "code",
      "metadata": {
        "id": "IBY0CaWZqVjg",
        "colab_type": "code",
        "colab": {
          "base_uri": "https://localhost:8080/",
          "height": 255
        },
        "outputId": "1e8c78c1-f86c-46d6-f1ac-6afdb21e4e31"
      },
      "source": [
        "statement = \"SELECT * FROM student_data WHERE Major like '%ry' ORDER BY MAJOR;\"\n",
        "selected_data = sqldf(statement, globals())\n",
        "print(selected_data)"
      ],
      "execution_count": 189,
      "outputs": [
        {
          "output_type": "stream",
          "text": [
            "                 Name       GPA      Major  Year\n",
            "0         Adam George  2.746021  Chemistry     5\n",
            "1          Frank Ewin  2.749638  Chemistry     2\n",
            "2          Ewin Frank  2.801940  Chemistry     3\n",
            "3         Issac Issac  2.890433  Chemistry     2\n",
            "4          Gates Adam  2.923152  Chemistry     1\n",
            "...               ...       ...        ...   ...\n",
            "3297     Issac George  2.610410    History     4\n",
            "3298    George George  2.608504    History     1\n",
            "3299  Catherine Issac  2.704581    History     3\n",
            "3300      Daniel Bill  2.725188    History     4\n",
            "3301       Adam Henry  2.784513    History     5\n",
            "\n",
            "[3302 rows x 4 columns]\n"
          ],
          "name": "stdout"
        }
      ]
    },
    {
      "cell_type": "code",
      "metadata": {
        "id": "5W-AEsBLr-eH",
        "colab_type": "code",
        "colab": {
          "base_uri": "https://localhost:8080/",
          "height": 255
        },
        "outputId": "233dd724-cc1d-4c3c-cfa7-a977cac0e052"
      },
      "source": [
        "statement = \"SELECT * FROM student_data WHERE Major like '%ry' ORDER BY MAJOR DESC;\"\n",
        "selected_data = sqldf(statement, globals())\n",
        "print(selected_data)"
      ],
      "execution_count": 190,
      "outputs": [
        {
          "output_type": "stream",
          "text": [
            "                  Name       GPA      Major  Year\n",
            "0      Gates Catherine  2.795424    History     2\n",
            "1         Henry Daniel  2.793533    History     5\n",
            "2     George Catherine  2.680848    History     4\n",
            "3          Issac Issac  2.819450    History     5\n",
            "4           Issac Adam  2.768629    History     3\n",
            "...                ...       ...        ...   ...\n",
            "3297         Bill Adam  2.811791  Chemistry     5\n",
            "3298        Adam Henry  2.866484  Chemistry     3\n",
            "3299        Frank Ewin  2.754792  Chemistry     3\n",
            "3300       George Adam  2.862292  Chemistry     1\n",
            "3301       Bill Daniel  2.832558  Chemistry     1\n",
            "\n",
            "[3302 rows x 4 columns]\n"
          ],
          "name": "stdout"
        }
      ]
    },
    {
      "cell_type": "code",
      "metadata": {
        "id": "95S3TrInsQ7A",
        "colab_type": "code",
        "colab": {
          "base_uri": "https://localhost:8080/",
          "height": 255
        },
        "outputId": "ed48070d-9655-4cd9-d2ba-6972f4dab3da"
      },
      "source": [
        "statement = \"SELECT * FROM student_data WHERE Major like '%ry' ORDER BY MAJOR, Year DESC;\"\n",
        "selected_data = sqldf(statement, globals())\n",
        "print(selected_data)\n"
      ],
      "execution_count": 191,
      "outputs": [
        {
          "output_type": "stream",
          "text": [
            "                     Name       GPA      Major  Year\n",
            "0             Adam George  2.746021  Chemistry     5\n",
            "1             Frank Issac  2.873346  Chemistry     5\n",
            "2            Daniel Frank  2.932845  Chemistry     5\n",
            "3             Ewin Daniel  2.914165  Chemistry     5\n",
            "4              Henry Adam  2.881239  Chemistry     5\n",
            "...                   ...       ...        ...   ...\n",
            "3297  Catherine Catherine  2.634722    History     1\n",
            "3298           Bill Henry  2.724548    History     1\n",
            "3299            Bill Bill  2.679061    History     1\n",
            "3300         Daniel Henry  2.663381    History     1\n",
            "3301        George George  2.608504    History     1\n",
            "\n",
            "[3302 rows x 4 columns]\n"
          ],
          "name": "stdout"
        }
      ]
    }
  ]
}