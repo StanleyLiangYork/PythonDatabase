{
  "nbformat": 4,
  "nbformat_minor": 0,
  "metadata": {
    "colab": {
      "name": "SQLite_connect.ipynb",
      "provenance": [],
      "authorship_tag": "ABX9TyM0cqF6a0+bp2Oq58iwhw+L",
      "include_colab_link": true
    },
    "kernelspec": {
      "name": "python3",
      "display_name": "Python 3"
    }
  },
  "cells": [
    {
      "cell_type": "markdown",
      "metadata": {
        "id": "view-in-github",
        "colab_type": "text"
      },
      "source": [
        "<a href=\"https://colab.research.google.com/github/StanleyLiangYork/PythonDatabase/blob/master/SQLite_connect.ipynb\" target=\"_parent\"><img src=\"https://colab.research.google.com/assets/colab-badge.svg\" alt=\"Open In Colab\"/></a>"
      ]
    },
    {
      "cell_type": "code",
      "metadata": {
        "id": "4cnEtDi3McH4",
        "colab_type": "code",
        "colab": {
          "base_uri": "https://localhost:8080/",
          "height": 52
        },
        "outputId": "85ba510c-8c60-448e-eaa4-e0c48846943a"
      },
      "source": [
        "# CREATING THE TABLE\n",
        "import sqlite3\n",
        "\n",
        "# will create a new test.db file in the current path\n",
        "conn = sqlite3.connect('test.db') \n",
        "print(\"Opened database successfully\");\n",
        "\n",
        "conn.execute('''\n",
        "CREATE TABLE IF NOT EXISTS team_data(team text, \n",
        "                      country text, \n",
        "                      year integer, \n",
        "                      total_goals integer);''')\n",
        "\n",
        "conn.commit()\n",
        "\n",
        "print(\"Table created successfully\");\n",
        "\n",
        "conn.close()"
      ],
      "execution_count": 7,
      "outputs": [
        {
          "output_type": "stream",
          "text": [
            "Opened database successfully\n",
            "Table created successfully\n"
          ],
          "name": "stdout"
        }
      ]
    },
    {
      "cell_type": "code",
      "metadata": {
        "id": "ILTyxMxmNVXy",
        "colab_type": "code",
        "colab": {}
      },
      "source": [
        "# INSERTING VALUES\n",
        "conn = sqlite3.connect('test.db')\n",
        "conn.execute(\"INSERT INTO team_data VALUES('Real Madrid', 'Spain', 2019, 53);\")\n",
        "conn.execute(\"INSERT INTO team_data VALUES('Barcelona', 'Spain', 2019, 47);\")\n",
        "conn.execute(\"INSERT INTO team_data VALUES('Arsenal', 'UK', 2019, 52);\")\n",
        "conn.execute(\"INSERT INTO team_data VALUES('Real Madrid', 'Spain', 2018, 49);\")\n",
        "conn.execute(\"INSERT INTO team_data VALUES('Barcelona', 'Spain', 2018, 45);\")\n",
        "conn.execute(\"INSERT INTO team_data VALUES('Arsenal', 'UK', 2018, 50 );\")\n",
        "\n",
        "conn.commit()\n",
        "conn.close()"
      ],
      "execution_count": 9,
      "outputs": []
    },
    {
      "cell_type": "code",
      "metadata": {
        "id": "WxQDL2doO2l7",
        "colab_type": "code",
        "colab": {
          "base_uri": "https://localhost:8080/",
          "height": 70
        },
        "outputId": "adf08d86-67f6-44c1-d676-a1bc01453130"
      },
      "source": [
        "# Get the average goal by team\n",
        "\n",
        "conn = sqlite3.connect('test.db')\n",
        "\n",
        "cursor = conn.execute(''' SELECT team,\n",
        "                            AVG(total_goals) AS avg_goals\n",
        "                          FROM team_data\n",
        "                          GROUP BY team;''')\n",
        "\n",
        "for row in cursor:\n",
        "  print(f'Team: {row[0]},  average score: {row[1]}')\n",
        "\n",
        "conn.close()"
      ],
      "execution_count": 19,
      "outputs": [
        {
          "output_type": "stream",
          "text": [
            "Team: Arsenal,  average score: 51.0\n",
            "Team: Barcelona,  average score: 46.0\n",
            "Team: Real Madrid,  average score: 51.0\n"
          ],
          "name": "stdout"
        }
      ]
    },
    {
      "cell_type": "code",
      "metadata": {
        "id": "nw39NZiYS4EK",
        "colab_type": "code",
        "colab": {
          "base_uri": "https://localhost:8080/",
          "height": 52
        },
        "outputId": "9b67a830-8711-47c9-b2d2-4d36a474b149"
      },
      "source": [
        "# First try to filter the teams with average goals higher than 50\n",
        "\n",
        "conn = sqlite3.connect('test.db')\n",
        "cursor = conn.execute('''SELECT team_name, avg_goal\n",
        "                       FROM (SELECT team AS team_name, AVG(total_goals) AS avg_goal\n",
        "                       FROM team_data\n",
        "                       GROUP BY team)\n",
        "                       WHERE avg_goal > 50\n",
        "                      ''')\n",
        "for row in cursor:\n",
        "  print(row)\n",
        "\n",
        "conn.close()"
      ],
      "execution_count": 21,
      "outputs": [
        {
          "output_type": "stream",
          "text": [
            "('Arsenal', 51.0)\n",
            "('Real Madrid', 51.0)\n"
          ],
          "name": "stdout"
        }
      ]
    }
  ]
}